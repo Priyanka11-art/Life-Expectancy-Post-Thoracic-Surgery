{
  "nbformat": 4,
  "nbformat_minor": 0,
  "metadata": {
    "colab": {
      "name": "combined.ipynb",
      "provenance": [],
      "collapsed_sections": []
    },
    "kernelspec": {
      "name": "python3",
      "display_name": "Python 3"
    }
  },
  "cells": [
    {
      "cell_type": "code",
      "metadata": {
        "id": "SqtBRHAIQ7ii",
        "colab_type": "code",
        "colab": {
          "base_uri": "https://localhost:8080/",
          "height": 34
        },
        "outputId": "8f43dd83-fb46-4e3c-ee07-6c6f104f3e20"
      },
      "source": [
        "from google.colab import drive\n",
        "drive.mount('/content/drive')\n"
      ],
      "execution_count": null,
      "outputs": [
        {
          "output_type": "stream",
          "text": [
            "Drive already mounted at /content/drive; to attempt to forcibly remount, call drive.mount(\"/content/drive\", force_remount=True).\n"
          ],
          "name": "stdout"
        }
      ]
    },
    {
      "cell_type": "code",
      "metadata": {
        "id": "0Ib4kapiVZ-6",
        "colab_type": "code",
        "colab": {
          "base_uri": "https://localhost:8080/",
          "height": 34
        },
        "outputId": "c4303ccc-df5f-4127-f88e-e4dc16ebe1f3"
      },
      "source": [
        "import os\n",
        "os.getcwd()\n"
      ],
      "execution_count": null,
      "outputs": [
        {
          "output_type": "execute_result",
          "data": {
            "text/plain": [
              "'/content'"
            ]
          },
          "metadata": {
            "tags": []
          },
          "execution_count": 3
        }
      ]
    },
    {
      "cell_type": "code",
      "metadata": {
        "id": "LzlqH5IxVtWB",
        "colab_type": "code",
        "colab": {
          "base_uri": "https://localhost:8080/",
          "height": 51
        },
        "outputId": "2b512071-b7e1-4441-cbfa-098de7bea599"
      },
      "source": [
        "os.chdir('/content/drive/My Drive/practice')\n",
        "import pandas as pd\n",
        "import numpy as np\n",
        "import matplotlib.pyplot as plt\n",
        "from sklearn.compose import ColumnTransformer\n",
        "from sklearn.preprocessing import OneHotEncoder\n",
        "from sklearn.model_selection import KFold\n",
        "from sklearn.linear_model import LogisticRegression\n",
        "from sklearn.svm import SVC\n",
        "from sklearn.naive_bayes import GaussianNB,BernoulliNB\n",
        "from sklearn import preprocessing\n",
        "from sklearn.metrics import recall_score\n",
        "\n",
        "\n",
        "df=pd.read_csv('dataset.csv')\n",
        "col=['id','diagnosis','forced_capacity','forced_expiration','zubrod_scale','pain','haemoptysis','dyspnoea',\n",
        "     'cough' , 'weakness','size_of_tumour' ,'diabetas' , 'mi_6months' ,'pad' ,'smoker' ,'asthmtic' ,'age' ,'risk_1_year']\n",
        "df.columns=col\n",
        "\n",
        "features=df.iloc[ : , 1:-1].values\n",
        "labels=df.iloc[ : , -1].values\n",
        "\n",
        "coloumntransformer=ColumnTransformer([('encoder' , OneHotEncoder() , [0,3,4,5,6,7,8,9,10,11,12,13,14])] , remainder='passthrough')\n",
        "features=np.array(coloumntransformer.fit_transform(features) , dtype=np.float32)\n",
        "\n",
        "features=features[ : , 1:]\n",
        "features=features[ : ,[0,1,2,3,4,5,6,7,9,10,12,14,16,18,20,22,23,24,26,28,30,32,34] ]\n",
        "\n",
        "from sklearn.preprocessing import StandardScaler\n",
        "sc=StandardScaler()\n",
        "features[: ,[1,2,15]]=sc.fit_transform(features[: , [1,2,15]])\n",
        "\n",
        "list1=[]\n",
        "for i in labels:\n",
        "  if i=='F':\n",
        "    list1.append(1)\n",
        "  elif i=='T':\n",
        "    list1.append(0)\n",
        "features.shape\n",
        "labels=np.array(list1)\n",
        "labels=labels.reshape(470,)\n",
        "\n",
        "kf=KFold(n_splits=10, random_state=None , shuffle=False)\n",
        "def get_score(model,features_train , features_test , labeles_train, labels_test):\n",
        "  model.fit(features_train,labels_train)\n",
        "  return model.score(features_test,labels_test)\n",
        "listsvm=[]\n",
        "listnaive=[]\n",
        "listlog=[]\n",
        "for train_index,test_index in kf.split(features):\n",
        "  features_train , features_test , labels_train, labels_test= features[train_index], features[test_index],labels[train_index],labels[test_index]\n",
        "  \n",
        "  listsvm.append(get_score(SVC(), features_train , features_test , labels_train, labels_test))\n",
        "  listnaive.append(get_score(BernoulliNB(), features_train , features_test , labels_train, labels_test))\n",
        "lista=[]\n",
        "a=np.mean(listsvm)\n",
        "print(\"accuracy of test data svm\", a)\n",
        "b=np.mean(listnaive)\n",
        "print(\"accuracy of  test data naive\" , b)\n",
        "g=''\n",
        "lista.append(g)\n",
        "lista.append(a)\n",
        "lista.append(b)\n",
        "\n",
        "\n",
        "\n",
        "#print listsvm\n",
        "#that will give you the list of predictions for svm\n",
        "# print listnaive\n",
        "# that wil give you the list of predictions for naive bayes"
      ],
      "execution_count": null,
      "outputs": [
        {
          "output_type": "stream",
          "text": [
            "accuracy of test data svm 0.851063829787234\n",
            "accuracy of  test data naive 0.8127659574468085\n"
          ],
          "name": "stdout"
        }
      ]
    },
    {
      "cell_type": "code",
      "metadata": {
        "id": "3LKdFXwvbgll",
        "colab_type": "code",
        "colab": {
          "base_uri": "https://localhost:8080/",
          "height": 51
        },
        "outputId": "09d10b61-e76e-4422-aea7-4b8f949a2757"
      },
      "source": [
        "\n",
        "kf=KFold(n_splits=10, random_state=None , shuffle=False)\n",
        "def get_scoree(model,features_train , features_test , labeles_train, labels_test):\n",
        "  model.fit(features_train,labels_train)\n",
        "  return model.score(features_train,labels_train)\n",
        "trainsvm=[]\n",
        "trainnaive=[]\n",
        "listlog=[]\n",
        "for train_index,test_index in kf.split(features):\n",
        "  features_train , features_test , labels_train, labels_test= features[train_index], features[test_index],labels[train_index],labels[test_index]\n",
        "  \n",
        "  trainsvm.append(get_scoree(SVC(), features_train , features_test , labels_train, labels_test))\n",
        "  trainnaive.append(get_scoree(BernoulliNB(), features_train , features_test , labels_train, labels_test))\n",
        " \n",
        "p=np.mean(trainsvm)\n",
        "print(\"accuracy of training data svm\", p)\n",
        "q=np.mean(trainnaive)\n",
        "print(\"accuracy of  training data naive\" , q)\n",
        "v=''\n",
        "listt=[]\n",
        "listt.append(v)\n",
        "listt.append(p)\n",
        "listt.append(q)"
      ],
      "execution_count": null,
      "outputs": [
        {
          "output_type": "stream",
          "text": [
            "accuracy of training data svm 0.851063829787234\n",
            "accuracy of  training data naive 0.8328605200945626\n"
          ],
          "name": "stdout"
        }
      ]
    },
    {
      "cell_type": "code",
      "metadata": {
        "id": "EbUJPKT3rUej",
        "colab_type": "code",
        "colab": {
          "base_uri": "https://localhost:8080/",
          "height": 51
        },
        "outputId": "9703c2b4-9c47-41a8-c1a6-d02236445c01"
      },
      "source": [
        "\n",
        "list34=[]\n",
        "list35=[]\n",
        "def get_score2(model,features_train , features_test , lables_train, labels_test):\n",
        "  model.fit(features_train,labels_train)\n",
        "  labels_pred=model.predict(features_test)\n",
        "  return (labels_test,labels_pred)\n",
        "for train_index,test_index in kf.split(features):\n",
        "  features_train , features_test , labels_train, labels_test= features[train_index], features[test_index],labels[train_index],labels[test_index]\n",
        "  \n",
        "  list34.append(get_score2(SVC(), features_train , features_test , labels_train, labels_test))\n",
        "  list35.append(get_score2(GaussianNB(), features_train , features_test , labels_train, labels_test))\n",
        "c=np.mean(list34)\n",
        "print(\"recall for svm\" , c)\n",
        "d=np.mean(list35)\n",
        "print(\"recall for naive\" , d)\n",
        "recal=[]\n",
        "y=''\n",
        "recal.append(y)\n",
        "recal.append(c)\n",
        "recal.append(d)"
      ],
      "execution_count": null,
      "outputs": [
        {
          "output_type": "stream",
          "text": [
            "recall for svm 0.925531914893617\n",
            "recall for naive 0.44361702127659575\n"
          ],
          "name": "stdout"
        }
      ]
    },
    {
      "cell_type": "code",
      "metadata": {
        "id": "9qcuAj2xTQNX",
        "colab_type": "code",
        "colab": {
          "base_uri": "https://localhost:8080/",
          "height": 34
        },
        "outputId": "0b01c32c-bd75-45b7-ba92-1d919ae9887b"
      },
      "source": [
        "from sklearn.linear_model import LogisticRegression\n",
        "\n",
        "from sklearn.preprocessing import StandardScaler\n",
        "sc=StandardScaler()\n",
        "features[: ,:]=sc.fit_transform(features[: , :])\n",
        "\n",
        "kf=KFold(n_splits=10, random_state=None , shuffle=False)\n",
        "def get_score3(model,features_train , features_test , lables_train, labels_test):\n",
        "  model.fit(features_train,labels_train)\n",
        "  return model.score(features_test,labels_test)\n",
        "listlog2=[]\n",
        "\n",
        "for train_index,test_index in kf.split(features):\n",
        "  features_train , features_test , labels_train, labels_test= features[train_index], features[test_index],labels[train_index],labels[test_index]\n",
        "  listlog2.append(get_score3(LogisticRegression(), features_train , features_test , labels_train, labels_test))\n",
        "e=np.mean(listlog2)\n",
        "print(\"logistic regression test data accuracy : \" , e)\n",
        "lista.append(e)\n",
        "\n",
        "\n"
      ],
      "execution_count": null,
      "outputs": [
        {
          "output_type": "stream",
          "text": [
            "logistic regression test data accuracy :  0.8361702127659575\n"
          ],
          "name": "stdout"
        }
      ]
    },
    {
      "cell_type": "code",
      "metadata": {
        "id": "MeNAeMf9c1Ky",
        "colab_type": "code",
        "colab": {
          "base_uri": "https://localhost:8080/",
          "height": 34
        },
        "outputId": "2b29a5d3-a0fc-4041-e58e-760eff0f3278"
      },
      "source": [
        "\n",
        "kf=KFold(n_splits=10, random_state=None , shuffle=False)\n",
        "def get_scoree3(model,features_train , features_test , lables_train, labels_test):\n",
        "  model.fit(features_train,labels_train)\n",
        "  return model.score(features_train,labels_train)\n",
        "trainlog=[]\n",
        "\n",
        "for train_index,test_index in kf.split(features):\n",
        "  features_train , features_test , labels_train, labels_test= features[train_index], features[test_index],labels[train_index],labels[test_index]\n",
        "  trainlog.append(get_scoree3(LogisticRegression(), features_train , features_test , labels_train, labels_test))\n",
        "x=np.mean(trainlog)\n",
        "print(\"logistic regression train data accuracy : \" , x)\n",
        "listt.append(x)"
      ],
      "execution_count": null,
      "outputs": [
        {
          "output_type": "stream",
          "text": [
            "logistic regression train data accuracy :  0.8470449172576832\n"
          ],
          "name": "stdout"
        }
      ]
    },
    {
      "cell_type": "code",
      "metadata": {
        "id": "hqKErhJNUsDH",
        "colab_type": "code",
        "colab": {
          "base_uri": "https://localhost:8080/",
          "height": 34
        },
        "outputId": "a60dcd48-2157-4875-d9e2-6628a0ae098a"
      },
      "source": [
        "\n",
        "kf=KFold(n_splits=10, random_state=None , shuffle=False)\n",
        "def get_score4(model,features_train , features_test , lables_train, labels_test):\n",
        "  model.fit(features_train,labels_train)\n",
        "  labels_pred1=model.predict(features_test)\n",
        "  return recall_score(labels_test,labels_pred1)\n",
        "listlog3=[]\n",
        "\n",
        "for train_index,test_index in kf.split(features):\n",
        "  features_train , features_test , labels_train, labels_test= features[train_index], features[test_index],labels[train_index],labels[test_index]\n",
        "  listlog3.append(get_score4(LogisticRegression(), features_train , features_test , labels_train, labels_test))\n",
        "f=np.mean(listlog3)\n",
        "print(\"logistic regression recall : \" , f)\n",
        "recal.append(f)"
      ],
      "execution_count": null,
      "outputs": [
        {
          "output_type": "stream",
          "text": [
            "logistic regression recall :  0.9775855456343262\n"
          ],
          "name": "stdout"
        }
      ]
    },
    {
      "cell_type": "markdown",
      "metadata": {
        "id": "09pRDU60m0D0",
        "colab_type": "text"
      },
      "source": [
        "## Random Forest"
      ]
    },
    {
      "cell_type": "code",
      "metadata": {
        "id": "z36moIROm6sa",
        "colab_type": "code",
        "colab": {
          "base_uri": "https://localhost:8080/",
          "height": 34
        },
        "outputId": "f39bf3ef-83ca-4ea0-ed16-5a7c067f6f97"
      },
      "source": [
        "from sklearn.ensemble import RandomForestClassifier\n",
        "from sklearn.preprocessing import StandardScaler\n",
        "sc=StandardScaler()\n",
        "features[: ,:]=sc.fit_transform(features[: , :])\n",
        "\n",
        "clf = RandomForestClassifier(n_estimators=100, max_depth= 4, random_state=2)\n",
        "\n",
        "\n",
        "clf.fit(features_train, labels_train)\n",
        "labels_pred = clf.predict_proba(features_test)\n",
        "\n",
        "\n",
        "kf=KFold(n_splits=10, random_state=None , shuffle=False)\n",
        "def get_score5(model,features_train , features_test , lables_train, labels_test):\n",
        "  model.fit(features_train,labels_train)\n",
        "  return model.score(features_test,labels_test)\n",
        "listrf=[]\n",
        "\n",
        "for train_index,test_index in kf.split(features):\n",
        "  features_train , features_test , labels_train, labels_test= features[train_index], features[test_index],labels[train_index],labels[test_index]\n",
        "  listrf.append(get_score5(RandomForestClassifier(), features_train , features_test , labels_train, labels_test))\n",
        "p=np.mean(listrf)\n",
        "print(\"Random Forest testing accuracy : \" , p)\n",
        "o=''\n",
        "train1=[]\n",
        "test1=[]\n",
        "test1.append(o)\n",
        "test1.append(p)\n",
        "train1.append(o)\n"
      ],
      "execution_count": null,
      "outputs": [
        {
          "output_type": "stream",
          "text": [
            "Random Forest testing accuracy :  0.823404255319149\n"
          ],
          "name": "stdout"
        }
      ]
    },
    {
      "cell_type": "code",
      "metadata": {
        "id": "uXiFjCR6lBwX",
        "colab_type": "code",
        "colab": {
          "base_uri": "https://localhost:8080/",
          "height": 34
        },
        "outputId": "dd6b74ef-b0c9-4a72-86fc-b48d7118bfc9"
      },
      "source": [
        "kf=KFold(n_splits=10, random_state=None , shuffle=False)\n",
        "def get_score5(model,features_train , features_test , lables_train, labels_test):\n",
        "  model.fit(features_train,labels_train)\n",
        "  return model.score(features_train,labels_train)\n",
        "listrfa=[]\n",
        "\n",
        "for train_index,test_index in kf.split(features):\n",
        "  features_train , features_test , labels_train, labels_test= features[train_index], features[test_index],labels[train_index],labels[test_index]\n",
        "  listrfa.append(get_score5(RandomForestClassifier(), features_train , features_test , labels_train, labels_test))\n",
        "pa=np.mean(listrfa)\n",
        "print(\"Random Forest training accuracy : \" , pa)\n",
        "train1.append(pa)"
      ],
      "execution_count": null,
      "outputs": [
        {
          "output_type": "stream",
          "text": [
            "Random Forest training accuracy :  0.9825059101654846\n"
          ],
          "name": "stdout"
        }
      ]
    },
    {
      "cell_type": "code",
      "metadata": {
        "id": "XU-TIs0UElGi",
        "colab_type": "code",
        "colab": {
          "base_uri": "https://localhost:8080/",
          "height": 34
        },
        "outputId": "1fd5d673-a423-458d-b481-4c1141bbe00a"
      },
      "source": [
        "kf=KFold(n_splits=10, random_state=None , shuffle=False)\n",
        "def get_score6(model,features_train , features_test , lables_train, labels_test):\n",
        "  model.fit(features_train,labels_train)\n",
        "  labels_pred2=model.predict(features_test)\n",
        "  return recall_score(labels_test,labels_pred2)\n",
        "listrf2=[]\n",
        "\n",
        "for train_index,test_index in kf.split(features):\n",
        "  features_train , features_test , labels_train, labels_test= features[train_index], features[test_index],labels[train_index],labels[test_index]\n",
        "  listrf2.append(get_score6(RandomForestClassifier(), features_train , features_test , labels_train, labels_test))\n",
        "yu=np.mean(listrf2)\n",
        "print(\"Random Forest recall : \" , yu)\n",
        "testrecal=[]\n",
        "testrecal.append(o)\n",
        "testrecal.append(yu)"
      ],
      "execution_count": null,
      "outputs": [
        {
          "output_type": "stream",
          "text": [
            "Random Forest recall :  0.9323657942977585\n"
          ],
          "name": "stdout"
        }
      ]
    },
    {
      "cell_type": "code",
      "metadata": {
        "id": "2m8DVXfe83ML",
        "colab_type": "code",
        "colab": {
          "base_uri": "https://localhost:8080/",
          "height": 295
        },
        "outputId": "c65b6ada-4a8e-42cf-bc6c-b5a71ddacc10"
      },
      "source": [
        "import matplotlib.pyplot as plt\n",
        "ratio=[50,100,150,200,250,300,350,400,450,500]\n",
        "mn = np.array(listrf)\n",
        "xy = np.array(ratio)\n",
        "\n",
        "plt.plot(xy , mn , color='blue' ,marker='o' , linewidth=3)\n",
        "\n",
        "plt.xlabel('datapoints')\n",
        "plt.title('Random forest accuracy without bootstrapping')\n",
        "plt.ylabel('Accuracy')\n",
        "plt.savefig(\"acc1.jpg\")\n",
        "\n"
      ],
      "execution_count": null,
      "outputs": [
        {
          "output_type": "display_data",
          "data": {
            "image/png": "[encoded data removed]",
            "text/plain": [
              "<Figure size 432x288 with 1 Axes>"
            ]
          },
          "metadata": {
            "tags": [],
            "needs_background": "light"
          }
        }
      ]
    },
    {
      "cell_type": "code",
      "metadata": {
        "id": "JsUe1YgICCS3",
        "colab_type": "code",
        "colab": {}
      },
      "source": [
        ""
      ],
      "execution_count": null,
      "outputs": []
    },
    {
      "cell_type": "code",
      "metadata": {
        "id": "iVMNvU5W96MC",
        "colab_type": "code",
        "colab": {}
      },
      "source": [
        "\n",
        "mn = np.array(listrf)\n",
        "xy = np.array(ratio)\n",
        "\n",
        "\n"
      ],
      "execution_count": null,
      "outputs": []
    },
    {
      "cell_type": "code",
      "metadata": {
        "id": "oYnqLRd5ES9s",
        "colab_type": "code",
        "colab": {
          "base_uri": "https://localhost:8080/",
          "height": 295
        },
        "outputId": "b3c31f55-d520-4cb1-811e-b98f45513b72"
      },
      "source": [
        "import matplotlib.pyplot as plt\n",
        "ratio=[50,100,150,200,250,300,350,400,450,500]\n",
        "nm = np.array(listrf2)\n",
        "yx = np.array(ratio)\n",
        "\n",
        "plt.plot(yx , nm , color='blue' ,marker='o' , linewidth=3)\n",
        "\n",
        "plt.xlabel('datapoints')\n",
        "plt.title('Random forest recall without Bootstrapping')\n",
        "plt.ylabel('Recall')\n",
        "plt.savefig(\"rec1.jpg\")\n",
        "\n",
        "\n"
      ],
      "execution_count": null,
      "outputs": [
        {
          "output_type": "display_data",
          "data": {
            "image/png": "[encoded data removed]",
            "text/plain": [
              "<Figure size 432x288 with 1 Axes>"
            ]
          },
          "metadata": {
            "tags": [],
            "needs_background": "light"
          }
        }
      ]
    },
    {
      "cell_type": "markdown",
      "metadata": {
        "id": "UmN_2GvoF_pT",
        "colab_type": "text"
      },
      "source": [
        "with bootstraping\n",
        "\n",
        "\n",
        " **With Bootstraping**"
      ]
    },
    {
      "cell_type": "code",
      "metadata": {
        "id": "w6_fbonYEeip",
        "colab_type": "code",
        "colab": {
          "base_uri": "https://localhost:8080/",
          "height": 221
        },
        "outputId": "16185f4f-b899-46d3-bf42-d064e51f4017"
      },
      "source": [
        "import pandas as pd\n",
        "import numpy as np\n",
        "import matplotlib.pyplot as plt\n",
        "from sklearn.compose import ColumnTransformer\n",
        "from sklearn.preprocessing import OneHotEncoder\n",
        "from sklearn.model_selection import KFold\n",
        "from sklearn.linear_model import LogisticRegression\n",
        "from sklearn.svm import SVC\n",
        "\n",
        "from sklearn.naive_bayes import BernoulliNB\n",
        "from sklearn.ensemble import RandomForestClassifier\n",
        "from sklearn import preprocessing\n",
        "from sklearn.metrics import recall_score\n",
        "from random import randrange\n",
        "\n",
        "\n",
        "listsvm1=[]\n",
        "listnaive1=[]\n",
        "listlog1=[]\n",
        "svmrecall=[]\n",
        "logrecall=[]\n",
        "naiverecall=[]\n",
        "listrf3 = []\n",
        "listrf4 = []\n",
        "rfrecall = []\n",
        "trainsvm1=[]\n",
        "trainlog1=[]\n",
        "trainnaive1=[]\n",
        "\n",
        "\n",
        "def subsample(dataset, ratio):\n",
        "\tsample = [];n_sample = round(len(dataset) * ratio)\n",
        "\twhile len(sample) < n_sample:\n",
        "\t\tindex = randrange(len(dataset))\n",
        "\t\tsample.append(dataset.iloc[index , : ])\n",
        "\treturn sample\n",
        "\n",
        "for ratio in [0.1,0.2 ,0.3, 0.4,0.5,0.6,0.7,0.8,0.9]:\n",
        "  sample = subsample(df, ratio)\n",
        "  df1=pd.DataFrame(sample )\n",
        "  features=df1.iloc[: , 1:-1].values\n",
        "  labels=df1.iloc[ : , -1].values\n",
        "  coloumntransformer=ColumnTransformer([('encoder' , OneHotEncoder() , [0,3,4,5,6,7,8,9,10,11,12,13,14])] , remainder='passthrough')\n",
        "  features=np.array(coloumntransformer.fit_transform(features) , dtype=np.float32)\n",
        "  \n",
        "  \n",
        "  from sklearn.preprocessing import StandardScaler\n",
        "  sc=StandardScaler()\n",
        "  features[: ,[1,2,15]]=sc.fit_transform(features[: , [1,2,15]])\n",
        "  list1=[]\n",
        "  from sklearn.preprocessing import StandardScaler\n",
        "  sc=StandardScaler()\n",
        "  features[: ,:]=sc.fit_transform(features[: , :])\n",
        "  for i in labels:\n",
        "    if i=='F':\n",
        "      list1.append(1)\n",
        "    elif i=='T':\n",
        "      list1.append(0)\n",
        "    features.shape\n",
        "  labels=np.array(list1)\n",
        "  c=int(470*ratio)\n",
        "  labels=labels.reshape(c,)\n",
        "  from sklearn.model_selection import train_test_split\n",
        "  features_train , features_test , labels_train, labels_test=train_test_split(features,labels,test_size=0.2,random_state=0)\n",
        "  model=SVC()\n",
        "  model.fit(features_train,labels_train)\n",
        "  n=model.score(features_train,labels_train)\n",
        "  trainsvm1.append(n)\n",
        "  a=model.score(features_test,labels_test)\n",
        "  listsvm1.append(a)\n",
        "  labels_pred=model.predict(features_test)\n",
        "  r=recall_score(labels_test,labels_pred)\n",
        "  svmrecall.append(r)\n",
        "\n",
        "  model1=BernoulliNB()\n",
        "  model1.fit(features_train,labels_train)\n",
        "  q=model1.score(features_train,labels_train)\n",
        "  trainnaive1.append(q)\n",
        "  b=model1.score(features_test,labels_test)\n",
        "  listnaive1.append(b)\n",
        "  labels_pred1=model1.predict(features_test)\n",
        "  r1=recall_score(labels_test,labels_pred1)\n",
        "  naiverecall.append(r1)\n",
        "  \n",
        "  model2=LogisticRegression()\n",
        "  model2.fit(features_train,labels_train)\n",
        "  p=model2.score(features_train,labels_train)\n",
        "  trainlog1.append(p)\n",
        "  c=model2.score(features_test,labels_test)\n",
        "  listlog1.append(c)\n",
        "  labels_pred2=model2.predict(features_test)\n",
        "  r2=recall_score(labels_test,labels_pred2)\n",
        "  logrecall.append(r2)\n",
        "\n",
        "  model3 = RandomForestClassifier(n_estimators=100, max_depth= 4, random_state=2)\n",
        "  model3.fit(features_train, labels_train)\n",
        "  d_test=model3.score(features_test,labels_test)\n",
        "  listrf3.append(d_test)\n",
        "  d_train=model3.score(features_train,labels_train)\n",
        "  listrf4.append(d_train)\n",
        "  labels_pred3=model3.predict(features_test)\n",
        "  r3=recall_score(labels_test,labels_pred3)\n",
        "  rfrecall.append(r3)\n",
        "f=''\n",
        "test1.append(f)\n",
        "u=np.mean(listrf3)\n",
        "test1.append(u)\n",
        "s=np.mean(listrf4)\n",
        "train1.append(f)\n",
        "train1.append(s)\n",
        "n=np.mean(trainsvm1)\n",
        "ty=np.mean(rfrecall)\n",
        "testrecal.append(f)\n",
        "testrecal.append(ty)\n",
        "print(\" accuracy for svm training data\" , n)\n",
        "print()\n",
        "q=np.mean(trainnaive1)\n",
        "print(\"accuracy for naive traiing data\",q)\n",
        "print()\n",
        "p=np.mean(trainlog1)\n",
        "print(\"accuracy for logistic taining data\" , p)\n",
        "print()\n",
        "m=''\n",
        "listt.append(m)\n",
        "listt.append(n)\n",
        "listt.append(q)\n",
        "listt.append(p)\n",
        "mean1=np.mean(listsvm1)\n",
        "print()\n",
        "print('svm accuracy for test data:',mean1)\n",
        "\n",
        "mean2=np.mean(listnaive1)\n",
        "print()\n",
        "print('naive accuracy for test data:',mean2)\n",
        "mean3=np.mean(listlog1)\n",
        "print()\n",
        "print('logisic accuracy for test data:',mean3)\n",
        "b=''\n",
        "lista.append(b)\n",
        "lista.append(mean1)\n",
        "lista.append(mean2)\n",
        "lista.append(mean3)\n",
        "l=np.mean(svmrecall)\n",
        "j=np.mean(naiverecall)\n",
        "h=np.mean(logrecall)\n",
        "r=''\n",
        "recal.append(r)\n",
        "recal.append(l)\n",
        "recal.append(j)\n",
        "recal.append(h)\n",
        "\n"
      ],
      "execution_count": null,
      "outputs": [
        {
          "output_type": "stream",
          "text": [
            " accuracy for svm training data 0.9103753746602066\n",
            "\n",
            "accuracy for naive traiing data 0.8654574418237324\n",
            "\n",
            "accuracy for logistic taining data 0.8965813806129397\n",
            "\n",
            "\n",
            "svm accuracy for test data: 0.8835649729840291\n",
            "\n",
            "naive accuracy for test data: 0.8174649924350662\n",
            "\n",
            "logisic accuracy for test data: 0.828773357238385\n"
          ],
          "name": "stdout"
        }
      ]
    },
    {
      "cell_type": "code",
      "metadata": {
        "id": "uL0tfuhOFGqr",
        "colab_type": "code",
        "colab": {
          "base_uri": "https://localhost:8080/",
          "height": 295
        },
        "outputId": "3df0fa3d-e732-4b16-a460-3983de2c8fa8"
      },
      "source": [
        "ratio=[50,100,150,200,250,300,350,400,450]\n",
        "plt.plot(ratio , listsvm1 , color='red' ,marker='o' , linewidth=3)\n",
        "plt.plot(ratio , listnaive1 , color='green' ,marker='*' , linewidth=3)\n",
        "plt.plot(ratio , listlog1 , color='purple' ,marker='X' , linewidth=3)\n",
        "plt.title('svm, navie, logistic accuracy')\n",
        "plt.xlabel('datapoints')\n",
        "\n",
        "plt.ylabel('Accuracy')\n",
        "plt.savefig(\"acc2.jpg\")\n"
      ],
      "execution_count": null,
      "outputs": [
        {
          "output_type": "display_data",
          "data": {
            "image/png": "[encoded data removed]",
            "text/plain": [
              "<Figure size 432x288 with 1 Axes>"
            ]
          },
          "metadata": {
            "tags": [],
            "needs_background": "light"
          }
        }
      ]
    },
    {
      "cell_type": "code",
      "metadata": {
        "id": "ILE0_SkyGcs3",
        "colab_type": "code",
        "colab": {
          "base_uri": "https://localhost:8080/",
          "height": 295
        },
        "outputId": "337d2ec8-a4ab-4c3f-b6ea-76507fbad0ce"
      },
      "source": [
        "ratio=[50,100,150,200,250,300,350,400,450]\n",
        "plt.plot(ratio , svmrecall , color='red' ,marker='o' , linewidth=3)\n",
        "plt.plot(ratio , naiverecall , color='green' ,marker='*' , linewidth=3)\n",
        "plt.plot(ratio , logrecall , color='purple' ,marker='X' , linewidth=3)\n",
        "plt.title('svm, navie, logistic recall')\n",
        "plt.xlabel('datapoints')\n",
        "\n",
        "plt.ylabel('Recall')\n",
        "plt.savefig(\"rec2.jpg\")\n"
      ],
      "execution_count": null,
      "outputs": [
        {
          "output_type": "display_data",
          "data": {
            "image/png": "[encoded data removed]",
            "text/plain": [
              "<Figure size 432x288 with 1 Axes>"
            ]
          },
          "metadata": {
            "tags": [],
            "needs_background": "light"
          }
        }
      ]
    },
    {
      "cell_type": "code",
      "metadata": {
        "id": "jZ5IDUeOG-lW",
        "colab_type": "code",
        "colab": {
          "base_uri": "https://localhost:8080/",
          "height": 295
        },
        "outputId": "b31ce5e3-28b3-4013-d188-db1794d742d4"
      },
      "source": [
        "ratio=[100,150,200,250,300,350,400,450,500]\n",
        "plt.plot(ratio , listrf3 , color='red' ,marker='o' , linewidth=3)\n",
        "plt.title('Random Forest Accuracy with Bootstrapping')\n",
        "plt.xlabel('datapoints')\n",
        "\n",
        "plt.ylabel('Accuracy')\n",
        "plt.savefig(\"acc3.jpg\")\n"
      ],
      "execution_count": null,
      "outputs": [
        {
          "output_type": "display_data",
          "data": {
            "image/png": "[encoded data removed]",
            "text/plain": [
              "<Figure size 432x288 with 1 Axes>"
            ]
          },
          "metadata": {
            "tags": [],
            "needs_background": "light"
          }
        }
      ]
    },
    {
      "cell_type": "code",
      "metadata": {
        "id": "hORSNBdPHQay",
        "colab_type": "code",
        "colab": {
          "base_uri": "https://localhost:8080/",
          "height": 295
        },
        "outputId": "f1d8979e-06f6-492d-a852-bdaa493d205e"
      },
      "source": [
        "ratio=[100,150,200,250,300,350,400,450,500]\n",
        "plt.plot(ratio ,rfrecall  , color='red' ,marker='o' , linewidth=3)\n",
        "plt.title('Random Forest')\n",
        "plt.xlabel('datapoints')\n",
        "plt.title('Random Forest recall with Bootstrapping')\n",
        "plt.ylabel('Recall')\n",
        "plt.savefig(\"rec3.jpg\")\n"
      ],
      "execution_count": null,
      "outputs": [
        {
          "output_type": "display_data",
          "data": {
            "image/png": "[encoded data removed]",
            "text/plain": [
              "<Figure size 432x288 with 1 Axes>"
            ]
          },
          "metadata": {
            "tags": [],
            "needs_background": "light"
          }
        }
      ]
    },
    {
      "cell_type": "markdown",
      "metadata": {
        "id": "IvOZ3SlEjjia",
        "colab_type": "text"
      },
      "source": [
        "**TABLE FOR NAIVE BAYES , LOGISTIC REG. ,SVM **"
      ]
    },
    {
      "cell_type": "code",
      "metadata": {
        "id": "T4o-UO3nIC1O",
        "colab_type": "code",
        "colab": {
          "base_uri": "https://localhost:8080/",
          "height": 297
        },
        "outputId": "3b1f4822-61ed-49f5-ce00-29e12c740238"
      },
      "source": [
        "f2=pd.DataFrame()\n",
        "listw=['WITHOUT BOOTSTRAPING' , 'SVM' ,'Naive Bayes' , 'Logistic reg.' , 'WTH BOOTSTRAPING','SVM', ' Naive Bayes' , 'Logistic reg.' ]\n",
        "f2['bootstraping']=listw\n",
        "\n",
        "f2['Testing Accuracy']=lista\n",
        "f2['Training Accuracy']=listt\n",
        "f2['Recall Test Data']=recal\n",
        "f2"
      ],
      "execution_count": null,
      "outputs": [
        {
          "output_type": "execute_result",
          "data": {
            "text/html": [
              "<div>\n",
              "<style scoped>\n",
              "    .dataframe tbody tr th:only-of-type {\n",
              "        vertical-align: middle;\n",
              "    }\n",
              "\n",
              "    .dataframe tbody tr th {\n",
              "        vertical-align: top;\n",
              "    }\n",
              "\n",
              "    .dataframe thead th {\n",
              "        text-align: right;\n",
              "    }\n",
              "</style>\n",
              "<table border=\"1\" class=\"dataframe\">\n",
              "  <thead>\n",
              "    <tr style=\"text-align: right;\">\n",
              "      <th></th>\n",
              "      <th>bootstraping</th>\n",
              "      <th>Testing Accuracy</th>\n",
              "      <th>Training Accuracy</th>\n",
              "      <th>Recall Test Data</th>\n",
              "    </tr>\n",
              "  </thead>\n",
              "  <tbody>\n",
              "    <tr>\n",
              "      <th>0</th>\n",
              "      <td>WITHOUT BOOTSTRAPING</td>\n",
              "      <td></td>\n",
              "      <td></td>\n",
              "      <td></td>\n",
              "    </tr>\n",
              "    <tr>\n",
              "      <th>1</th>\n",
              "      <td>SVM</td>\n",
              "      <td>0.851064</td>\n",
              "      <td>0.851064</td>\n",
              "      <td>0.925532</td>\n",
              "    </tr>\n",
              "    <tr>\n",
              "      <th>2</th>\n",
              "      <td>Naive Bayes</td>\n",
              "      <td>0.812766</td>\n",
              "      <td>0.832861</td>\n",
              "      <td>0.443617</td>\n",
              "    </tr>\n",
              "    <tr>\n",
              "      <th>3</th>\n",
              "      <td>Logistic reg.</td>\n",
              "      <td>0.83617</td>\n",
              "      <td>0.847045</td>\n",
              "      <td>0.977586</td>\n",
              "    </tr>\n",
              "    <tr>\n",
              "      <th>4</th>\n",
              "      <td>WTH BOOTSTRAPING</td>\n",
              "      <td></td>\n",
              "      <td></td>\n",
              "      <td></td>\n",
              "    </tr>\n",
              "    <tr>\n",
              "      <th>5</th>\n",
              "      <td>SVM</td>\n",
              "      <td>0.905922</td>\n",
              "      <td>0.91709</td>\n",
              "      <td>0.994968</td>\n",
              "    </tr>\n",
              "    <tr>\n",
              "      <th>6</th>\n",
              "      <td>Naive Bayes</td>\n",
              "      <td>0.826714</td>\n",
              "      <td>0.867171</td>\n",
              "      <td>0.890425</td>\n",
              "    </tr>\n",
              "    <tr>\n",
              "      <th>7</th>\n",
              "      <td>Logistic reg.</td>\n",
              "      <td>0.891218</td>\n",
              "      <td>0.904733</td>\n",
              "      <td>0.964176</td>\n",
              "    </tr>\n",
              "  </tbody>\n",
              "</table>\n",
              "</div>"
            ],
            "text/plain": [
              "           bootstraping Testing Accuracy Training Accuracy Recall Test Data\n",
              "0  WITHOUT BOOTSTRAPING                                                    \n",
              "1                   SVM         0.851064          0.851064         0.925532\n",
              "2           Naive Bayes         0.812766          0.832861         0.443617\n",
              "3         Logistic reg.          0.83617          0.847045         0.977586\n",
              "4      WTH BOOTSTRAPING                                                    \n",
              "5                   SVM         0.905922           0.91709         0.994968\n",
              "6           Naive Bayes         0.826714          0.867171         0.890425\n",
              "7         Logistic reg.         0.891218          0.904733         0.964176"
            ]
          },
          "metadata": {
            "tags": []
          },
          "execution_count": 48
        }
      ]
    },
    {
      "cell_type": "markdown",
      "metadata": {
        "id": "JFlpvl1ojRkK",
        "colab_type": "text"
      },
      "source": [
        "**TABLE FOR RANDOM FOREST**"
      ]
    },
    {
      "cell_type": "code",
      "metadata": {
        "id": "FYTQoby0Q3aV",
        "colab_type": "code",
        "colab": {
          "base_uri": "https://localhost:8080/",
          "height": 173
        },
        "outputId": "e71020d2-58b1-434b-a63c-9bc61cd4dbd5"
      },
      "source": [
        "f3=pd.DataFrame()\n",
        "listr=['WITHOUT BOOTSTRAPING','Random forest','WITH BOOTSTRAPING','Random forest']\n",
        "f3['Bootstraping']=listr\n",
        "f3['Test Data Accuracy']=test1\n",
        "f3['Train Data Accuracy']=train1\n",
        "f3['Recall Test Data']=testrecal\n",
        "f3"
      ],
      "execution_count": null,
      "outputs": [
        {
          "output_type": "execute_result",
          "data": {
            "text/html": [
              "<div>\n",
              "<style scoped>\n",
              "    .dataframe tbody tr th:only-of-type {\n",
              "        vertical-align: middle;\n",
              "    }\n",
              "\n",
              "    .dataframe tbody tr th {\n",
              "        vertical-align: top;\n",
              "    }\n",
              "\n",
              "    .dataframe thead th {\n",
              "        text-align: right;\n",
              "    }\n",
              "</style>\n",
              "<table border=\"1\" class=\"dataframe\">\n",
              "  <thead>\n",
              "    <tr style=\"text-align: right;\">\n",
              "      <th></th>\n",
              "      <th>Bootstraping</th>\n",
              "      <th>Test Data Accuracy</th>\n",
              "      <th>Train Data Accuracy</th>\n",
              "      <th>Recall Test Data</th>\n",
              "    </tr>\n",
              "  </thead>\n",
              "  <tbody>\n",
              "    <tr>\n",
              "      <th>0</th>\n",
              "      <td>WITHOUT BOOTSTRAPING</td>\n",
              "      <td></td>\n",
              "      <td></td>\n",
              "      <td></td>\n",
              "    </tr>\n",
              "    <tr>\n",
              "      <th>1</th>\n",
              "      <td>Random forest</td>\n",
              "      <td>0.806383</td>\n",
              "      <td>0.98227</td>\n",
              "      <td>0.929738</td>\n",
              "    </tr>\n",
              "    <tr>\n",
              "      <th>2</th>\n",
              "      <td>WITH BOOTSTRAPING</td>\n",
              "      <td></td>\n",
              "      <td></td>\n",
              "      <td></td>\n",
              "    </tr>\n",
              "    <tr>\n",
              "      <th>3</th>\n",
              "      <td>Random forest</td>\n",
              "      <td>0.90559</td>\n",
              "      <td>0.899729</td>\n",
              "      <td>1</td>\n",
              "    </tr>\n",
              "  </tbody>\n",
              "</table>\n",
              "</div>"
            ],
            "text/plain": [
              "           Bootstraping Test Data Accuracy Train Data Accuracy Recall Test Data\n",
              "0  WITHOUT BOOTSTRAPING                                                        \n",
              "1         Random forest           0.806383             0.98227         0.929738\n",
              "2     WITH BOOTSTRAPING                                                        \n",
              "3         Random forest            0.90559            0.899729                1"
            ]
          },
          "metadata": {
            "tags": []
          },
          "execution_count": 49
        }
      ]
    },
    {
      "cell_type": "markdown",
      "metadata": {
        "id": "GE56OYcji-YC",
        "colab_type": "text"
      },
      "source": [
        "**FEATURE SELECTION**"
      ]
    },
    {
      "cell_type": "code",
      "metadata": {
        "id": "3PR69syXiSzF",
        "colab_type": "code",
        "colab": {
          "base_uri": "https://localhost:8080/",
          "height": 34
        },
        "outputId": "8465d2e4-1223-43f1-9dda-58495f884235"
      },
      "source": [
        "import statsmodels.api as sm\n",
        "import numpy as np\n",
        "\n",
        "features_obj = features[:, :]\n",
        "features_obj = sm.add_constant(features_obj)\n",
        "while (True):\n",
        "    regressor_OLS = sm.OLS(endog = labels,exog =features_obj).fit()\n",
        "    p_values = regressor_OLS.pvalues\n",
        "    if p_values.max() > 0.05 :\n",
        "        features_obj = np.delete(features_obj, p_values.argmax(),1)\n",
        "    else:\n",
        "        break\n",
        "features_obj.shape"
      ],
      "execution_count": null,
      "outputs": [
        {
          "output_type": "execute_result",
          "data": {
            "text/plain": [
              "(423, 5)"
            ]
          },
          "metadata": {
            "tags": []
          },
          "execution_count": 51
        }
      ]
    }
  ]
}